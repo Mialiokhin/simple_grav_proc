{
 "cells": [
  {
   "cell_type": "code",
   "execution_count": 1,
   "metadata": {},
   "outputs": [
    {
     "ename": "TypeError",
     "evalue": "unsupported type for timedelta seconds component: Timestamp",
     "output_type": "error",
     "traceback": [
      "\u001b[0;31m---------------------------------------------------------------------------\u001b[0m",
      "\u001b[0;31mTypeError\u001b[0m                                 Traceback (most recent call last)",
      "\u001b[1;32m/home/roman/gitrepo/simple_grav_proc/tests/plot_expirience.ipynb Ячейка 1\u001b[0m in \u001b[0;36m1\n\u001b[1;32m     <a href='vscode-notebook-cell:/home/roman/gitrepo/simple_grav_proc/tests/plot_expirience.ipynb#W0sZmlsZQ%3D%3D?line=11'>12</a>\u001b[0m readings \u001b[39m=\u001b[39m get_readings(data_file)\n\u001b[1;32m     <a href='vscode-notebook-cell:/home/roman/gitrepo/simple_grav_proc/tests/plot_expirience.ipynb#W0sZmlsZQ%3D%3D?line=12'>13</a>\u001b[0m ties \u001b[39m=\u001b[39m get_mean_ties(get_ties(readings))\n\u001b[0;32m---> <a href='vscode-notebook-cell:/home/roman/gitrepo/simple_grav_proc/tests/plot_expirience.ipynb#W0sZmlsZQ%3D%3D?line=14'>15</a>\u001b[0m plot \u001b[39m=\u001b[39m get_residuals_plot(data_file, readings, ties)\n",
      "File \u001b[0;32m/usr/local/lib/python3.11/dist-packages/rgrav-0.0.1-py3.11.egg/cg6_proc/utils.py:295\u001b[0m, in \u001b[0;36mget_residuals_plot\u001b[0;34m(raw, readings, ties)\u001b[0m\n\u001b[1;32m    292\u001b[0m             raw\u001b[39m.\u001b[39mloc[reading_index, [\u001b[39m'\u001b[39m\u001b[39mresiduals\u001b[39m\u001b[39m'\u001b[39m]] \u001b[39m=\u001b[39m reading_row\u001b[39m.\u001b[39mcorr_grav \u001b[39m-\u001b[39m first_reading\n\u001b[1;32m    294\u001b[0m survey_name \u001b[39m=\u001b[39m readings\u001b[39m.\u001b[39msurvey_name[\u001b[39m0\u001b[39m]\n\u001b[0;32m--> 295\u001b[0m \u001b[39mprint\u001b[39m(td(readings\u001b[39m.\u001b[39;49mindex[\u001b[39m-\u001b[39;49m\u001b[39m1\u001b[39;49m], readings\u001b[39m.\u001b[39;49mindex[\u001b[39m0\u001b[39;49m]))\n\u001b[1;32m    296\u001b[0m \u001b[39m# if (dt.timestamp(readings.survey_name[-1]) - dt.timestamp(readings.survey_name[0])) < dt.timestamp(td(dt.time(24))):\u001b[39;00m\n\u001b[1;32m    297\u001b[0m     \u001b[39m# date_formatter = DateFormatter('%H-%M')\u001b[39;00m\n\u001b[1;32m    298\u001b[0m \u001b[39m# else:\u001b[39;00m\n\u001b[1;32m    299\u001b[0m date_formatter \u001b[39m=\u001b[39m DateFormatter(\u001b[39m'\u001b[39m\u001b[39m%\u001b[39m\u001b[39mm/\u001b[39m\u001b[39m%d\u001b[39;00m\u001b[39m\\n\u001b[39;00m\u001b[39m%\u001b[39m\u001b[39mH-\u001b[39m\u001b[39m%\u001b[39m\u001b[39mM\u001b[39m\u001b[39m'\u001b[39m)\n",
      "\u001b[0;31mTypeError\u001b[0m: unsupported type for timedelta seconds component: Timestamp"
     ]
    }
   ],
   "source": [
    "import pandas as pd\n",
    "from cg6_proc.utils import cg6_data_file_reader, get_readings, get_ties, get_mean_ties\n",
    "from cg6_proc.utils import get_residuals_plot\n",
    "import seaborn as sns\n",
    "import matplotlib.pyplot as plt\n",
    "from matplotlib.dates import DateFormatter\n",
    "\n",
    "path_to_input_data_file = '/home/roman/gitrepo/simple_grav_proc/example/vertical_gradient/CG-6_0461_VG_1253.dat'\n",
    "# path_to_input_data_file = '/home/roman/gitrepo/simple_grav_proc/example/relative/450/CG-6_0450_1089-1253-1327-1089.dat'\n",
    "\n",
    "data_file = cg6_data_file_reader(path_to_input_data_file)\n",
    "readings = get_readings(data_file)\n",
    "ties = get_mean_ties(get_ties(readings))\n",
    "\n",
    "plot = get_residuals_plot(data_file, readings, ties)"
   ]
  },
  {
   "cell_type": "code",
   "execution_count": 7,
   "metadata": {},
   "outputs": [
    {
     "data": {
      "text/plain": [
       "True"
      ]
     },
     "execution_count": 7,
     "metadata": {},
     "output_type": "execute_result"
    }
   ],
   "source": [
    "from datetime import datetime as dt\n",
    "from datetime import timedelta as td\n",
    "\n",
    "readings = get_readings(cg6_data_file_reader(path_to_input_data_file))\n",
    "\n",
    "(readings.index[-1] - readings.index[0]) < td(hours=24)"
   ]
  }
 ],
 "metadata": {
  "kernelspec": {
   "display_name": "Python 3",
   "language": "python",
   "name": "python3"
  },
  "language_info": {
   "codemirror_mode": {
    "name": "ipython",
    "version": 3
   },
   "file_extension": ".py",
   "mimetype": "text/x-python",
   "name": "python",
   "nbconvert_exporter": "python",
   "pygments_lexer": "ipython3",
   "version": "3.11.2"
  },
  "orig_nbformat": 4
 },
 "nbformat": 4,
 "nbformat_minor": 2
}
